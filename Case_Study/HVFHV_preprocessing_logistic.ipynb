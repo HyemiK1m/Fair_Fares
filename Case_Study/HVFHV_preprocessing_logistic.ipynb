{
 "cells": [
  {
   "cell_type": "code",
   "execution_count": 1,
   "id": "735cb6cf",
   "metadata": {
    "ExecuteTime": {
     "end_time": "2023-08-09T17:44:20.399645Z",
     "start_time": "2023-08-09T17:44:19.821952Z"
    }
   },
   "outputs": [],
   "source": [
    "import pandas as pd\n",
    "import pyarrow.parquet as pq\n",
    "import os\n",
    "import numpy as np"
   ]
  },
  {
   "cell_type": "markdown",
   "id": "62714436",
   "metadata": {},
   "source": [
    "### Data Load"
   ]
  },
  {
   "cell_type": "code",
   "execution_count": 2,
   "id": "0a26c0cc",
   "metadata": {
    "ExecuteTime": {
     "end_time": "2023-08-09T17:44:20.402325Z",
     "start_time": "2023-08-09T17:44:20.400138Z"
    }
   },
   "outputs": [
    {
     "name": "stdout",
     "output_type": "stream",
     "text": [
      "/Users/hyemi/Desktop/FairFares\n"
     ]
    }
   ],
   "source": [
    "current_path = os.getcwd()\n",
    "print(current_path)"
   ]
  },
  {
   "cell_type": "code",
   "execution_count": 3,
   "id": "bc59d726",
   "metadata": {
    "ExecuteTime": {
     "end_time": "2023-08-09T17:44:25.499539Z",
     "start_time": "2023-08-09T17:44:20.482332Z"
    }
   },
   "outputs": [],
   "source": [
    "path = os.path.join(current_path, 'Data/fhvhv_tripdata_2023-03.parquet')\n",
    "df_org = pq.read_table(source=path).to_pandas()"
   ]
  },
  {
   "cell_type": "code",
   "execution_count": 4,
   "id": "3b48b1f6",
   "metadata": {
    "ExecuteTime": {
     "end_time": "2023-08-09T17:44:25.643837Z",
     "start_time": "2023-08-09T17:44:25.501173Z"
    }
   },
   "outputs": [],
   "source": [
    "path_yellow = os.path.join(current_path, 'Data/yellow_tripdata_2023-03.parquet')\n",
    "df_yellow_org = pq.read_table(source=path_yellow).to_pandas()"
   ]
  },
  {
   "cell_type": "code",
   "execution_count": 5,
   "id": "9047d052",
   "metadata": {
    "ExecuteTime": {
     "end_time": "2023-08-09T17:44:25.650049Z",
     "start_time": "2023-08-09T17:44:25.642943Z"
    }
   },
   "outputs": [],
   "source": [
    "path_green = os.path.join(current_path, 'Data/green_tripdata_2023-03.parquet')\n",
    "df_green_org = pq.read_table(source=path_green).to_pandas()"
   ]
  },
  {
   "cell_type": "markdown",
   "id": "59298b4e",
   "metadata": {},
   "source": [
    "### Taxi zones"
   ]
  },
  {
   "cell_type": "code",
   "execution_count": 6,
   "id": "79f94079",
   "metadata": {
    "ExecuteTime": {
     "end_time": "2023-08-09T17:46:00.907615Z",
     "start_time": "2023-08-09T17:46:00.899483Z"
    }
   },
   "outputs": [
    {
     "name": "stdout",
     "output_type": "stream",
     "text": [
      "63\n"
     ]
    }
   ],
   "source": [
    "import csv\n",
    "csv_path = os.path.join(current_path, 'Data/taxi_zone_lookup.csv')\n",
    "\n",
    "manhattan_zone = []\n",
    "with open(csv_path, newline='') as csvfile:\n",
    "    spamreader = csv.reader(csvfile, delimiter=',', quotechar='|')\n",
    "    for row in spamreader:\n",
    "        if 'LocationID' == row[0]:\n",
    "            continue\n",
    "        zone, borough = row[0], row[1]\n",
    "        if borough == 'Manhattan' and int(zone) not in [103, 104, 105, 153, 194, 202]:\n",
    "            manhattan_zone.append(int(zone))\n",
    "print(len(manhattan_zone))"
   ]
  },
  {
   "cell_type": "code",
   "execution_count": 7,
   "id": "82fe46a9",
   "metadata": {
    "ExecuteTime": {
     "end_time": "2023-08-09T17:46:01.778174Z",
     "start_time": "2023-08-09T17:46:01.764188Z"
    }
   },
   "outputs": [
    {
     "name": "stdout",
     "output_type": "stream",
     "text": [
      "zones in data = defined zones ? True\n"
     ]
    }
   ],
   "source": [
    "# loc_1 = [128, 127, 243, 244, 120]\n",
    "# loc_2 = [116, 152, 166]\n",
    "# loc_3 = [42, 41, 74, 75]\n",
    "# loc_4 = [24, 151, 238, 239, 143, 142]\n",
    "# loc_5 = [43]\n",
    "# loc_6 = [236, 263, 262, 237, 141, 140]\n",
    "# loc_7 = [50, 48, 246, 68]\n",
    "# loc_8 = [163, 230, 161, 162, 100, 186, 164, 90, 234]\n",
    "# loc_9 = [229, 233, 170, 137, 107, 224]\n",
    "# loc_10 = [158, 249, 113, 114, 125, 211, 144]\n",
    "# loc_11 = [79, 4, 148, 232]\n",
    "# loc_12 = [231, 45, 209, 13, 261, 87, 88, 12]\n",
    "# loc = {1: loc_1, 2: loc_2, 3: loc_3, 4: loc_4, 5: loc_5, 6: loc_6, 7: loc_7, 8: loc_8, 9: loc_9, 10: loc_10, 11: loc_11, 12: loc_12}\n",
    "\n",
    "loc_1 = [128, 127, 243, 244, 120, 116, 152, 166]\n",
    "loc_2 = [42, 41, 74, 75]\n",
    "loc_3 = [24, 151, 238, 239, 143, 142, 43]\n",
    "loc_4 = [236, 263, 262, 237, 141, 140]\n",
    "loc_5 = [50, 48, 246, 68]\n",
    "loc_6 = [163, 230, 161, 162, 100, 186, 164, 90, 234]\n",
    "loc_7 = [229, 233, 170, 137, 107, 224]\n",
    "loc_8 = [158, 249, 113, 114, 125, 211, 144]\n",
    "loc_9 = [79, 4, 148, 232]\n",
    "loc_10 = [231, 45, 209, 13, 261, 87, 88, 12]\n",
    "loc = {1: loc_1, 2: loc_2, 3: loc_3, 4: loc_4, 5: loc_5, 6: loc_6, 7: loc_7, 8: loc_8, 9: loc_9, 10: loc_10}\n",
    "\n",
    "all_zones = []\n",
    "several_zones = []\n",
    "for i in range(1, len(loc.values())+1):\n",
    "    all_zones += loc[i]\n",
    "    several_zones.append(loc[i])\n",
    "print('zones in data = defined zones ?', sorted(all_zones) == sorted(manhattan_zone))"
   ]
  },
  {
   "cell_type": "code",
   "execution_count": 8,
   "outputs": [
    {
     "name": "stdout",
     "output_type": "stream",
     "text": [
      "63\n"
     ]
    }
   ],
   "source": [
    "print(len(all_zones))"
   ],
   "metadata": {
    "collapsed": false,
    "ExecuteTime": {
     "end_time": "2023-08-09T17:46:02.275658Z",
     "start_time": "2023-08-09T17:46:02.270339Z"
    }
   }
  },
  {
   "cell_type": "code",
   "execution_count": 9,
   "id": "a0ff683f",
   "metadata": {
    "ExecuteTime": {
     "end_time": "2023-08-09T17:46:05.757213Z",
     "start_time": "2023-08-09T17:46:02.455299Z"
    }
   },
   "outputs": [
    {
     "name": "stdout",
     "output_type": "stream",
     "text": [
      "20413539\n"
     ]
    }
   ],
   "source": [
    "print(len(df_org.index))\n",
    "df = df_org.copy()"
   ]
  },
  {
   "cell_type": "markdown",
   "id": "5946e390",
   "metadata": {},
   "source": [
    "### Timeframe\n",
    "* time_frame: \"2023-03-01 18:00 - 20:00\""
   ]
  },
  {
   "cell_type": "code",
   "execution_count": 11,
   "id": "ea04cda6",
   "metadata": {
    "ExecuteTime": {
     "end_time": "2023-08-09T17:47:50.387838Z",
     "start_time": "2023-08-09T17:47:50.359564Z"
    }
   },
   "outputs": [],
   "source": [
    "time_start = \"2023-03-03 18:00:00\"\n",
    "time_end = \"2023-03-03 20:00:00\""
   ]
  },
  {
   "cell_type": "markdown",
   "id": "4e0784a3",
   "metadata": {},
   "source": [
    "###  Data Preprocessing"
   ]
  },
  {
   "cell_type": "code",
   "execution_count": 12,
   "id": "975cd6b2",
   "metadata": {
    "ExecuteTime": {
     "end_time": "2023-08-09T17:47:55.178374Z",
     "start_time": "2023-08-09T17:47:51.824935Z"
    }
   },
   "outputs": [],
   "source": [
    "df_yellow = df_yellow_org.copy()\n",
    "df_green = df_green_org.copy()\n",
    "df_platform = df_org.copy()"
   ]
  },
  {
   "cell_type": "code",
   "execution_count": 13,
   "id": "1efb04aa",
   "metadata": {
    "ExecuteTime": {
     "end_time": "2023-08-09T17:47:55.184871Z",
     "start_time": "2023-08-09T17:47:55.182311Z"
    }
   },
   "outputs": [
    {
     "data": {
      "text/plain": "Index(['hvfhs_license_num', 'dispatching_base_num', 'originating_base_num',\n       'request_datetime', 'on_scene_datetime', 'pickup_datetime',\n       'dropoff_datetime', 'PULocationID', 'DOLocationID', 'trip_miles',\n       'trip_time', 'base_passenger_fare', 'tolls', 'bcf', 'sales_tax',\n       'congestion_surcharge', 'airport_fee', 'tips', 'driver_pay',\n       'shared_request_flag', 'shared_match_flag', 'access_a_ride_flag',\n       'wav_request_flag', 'wav_match_flag'],\n      dtype='object')"
     },
     "execution_count": 13,
     "metadata": {},
     "output_type": "execute_result"
    }
   ],
   "source": [
    "df_platform.columns"
   ]
  },
  {
   "cell_type": "code",
   "execution_count": 14,
   "id": "6b257b7f",
   "metadata": {
    "ExecuteTime": {
     "end_time": "2023-08-09T17:47:55.188071Z",
     "start_time": "2023-08-09T17:47:55.184457Z"
    }
   },
   "outputs": [
    {
     "name": "stdout",
     "output_type": "stream",
     "text": [
      "yellow cab Index(['VendorID', 'tpep_pickup_datetime', 'tpep_dropoff_datetime',\n",
      "       'passenger_count', 'trip_distance', 'RatecodeID', 'store_and_fwd_flag',\n",
      "       'PULocationID', 'DOLocationID', 'payment_type', 'fare_amount', 'extra',\n",
      "       'mta_tax', 'tip_amount', 'tolls_amount', 'improvement_surcharge',\n",
      "       'total_amount', 'congestion_surcharge', 'Airport_fee'],\n",
      "      dtype='object')\n",
      "green cab Index(['VendorID', 'lpep_pickup_datetime', 'lpep_dropoff_datetime',\n",
      "       'store_and_fwd_flag', 'RatecodeID', 'PULocationID', 'DOLocationID',\n",
      "       'passenger_count', 'trip_distance', 'fare_amount', 'extra', 'mta_tax',\n",
      "       'tip_amount', 'tolls_amount', 'ehail_fee', 'improvement_surcharge',\n",
      "       'total_amount', 'payment_type', 'trip_type', 'congestion_surcharge'],\n",
      "      dtype='object')\n",
      "platforms Index(['hvfhs_license_num', 'dispatching_base_num', 'originating_base_num',\n",
      "       'request_datetime', 'on_scene_datetime', 'pickup_datetime',\n",
      "       'dropoff_datetime', 'PULocationID', 'DOLocationID', 'trip_miles',\n",
      "       'trip_time', 'base_passenger_fare', 'tolls', 'bcf', 'sales_tax',\n",
      "       'congestion_surcharge', 'airport_fee', 'tips', 'driver_pay',\n",
      "       'shared_request_flag', 'shared_match_flag', 'access_a_ride_flag',\n",
      "       'wav_request_flag', 'wav_match_flag'],\n",
      "      dtype='object')\n"
     ]
    }
   ],
   "source": [
    "print(\"yellow cab\", df_yellow.columns)\n",
    "print(\"green cab\", df_green.columns)\n",
    "print(\"platforms\", df_platform.columns)"
   ]
  },
  {
   "cell_type": "code",
   "execution_count": 15,
   "id": "dff45b45",
   "metadata": {
    "ExecuteTime": {
     "end_time": "2023-08-09T17:47:55.222579Z",
     "start_time": "2023-08-09T17:47:55.187703Z"
    }
   },
   "outputs": [],
   "source": [
    "def cab_filter(df, time_start, time_end, all_zones, several_zones, taxi_type='yellow', N=13):\n",
    "    print(\"%-30s %-4s\" % (\"taxi type\", taxi_type))\n",
    "    \n",
    "    print(\"%-30s %4d\" % (\"original length\", len(df)))\n",
    "    # time filter\n",
    "    if taxi_type == 'yellow':\n",
    "        mask = (df.tpep_pickup_datetime >= time_start) & (df.tpep_pickup_datetime < time_end)\n",
    "    elif taxi_type == 'green':\n",
    "        mask = (df.lpep_pickup_datetime >= time_start) & (df.lpep_pickup_datetime < time_end)\n",
    "    else:\n",
    "        df.drop(df.loc[df['shared_match_flag']=='Y'].index, inplace=True)\n",
    "        mask = (df.pickup_datetime >= time_start) & (df.pickup_datetime < time_end)\n",
    "    df = df[mask]\n",
    "    #print(\"%-30s %4d\" % (\"after time filter\", len(df)))\n",
    "    \n",
    "    # make closed network\n",
    "    df = df[df.PULocationID.isin(all_zones)]\n",
    "    df = df[df.DOLocationID.isin(all_zones)]\n",
    "    #print(\"%-30s %4d\" % (\"after closed network\", len(df)))\n",
    "    \n",
    "    # remove the loop\n",
    "    for zone in several_zones:\n",
    "        loop = df['PULocationID'].isin(zone) & df['DOLocationID'].isin(zone)\n",
    "        df = df[~loop]\n",
    "    #print(\"%-30s %4d\" % (\"after removing the loop\", len(df)))\n",
    "    \n",
    "    # naming zone\n",
    "    for key, value in loc.items():\n",
    "        df.loc[df['PULocationID'].isin(value), 'PU_loc'] = key\n",
    "        df.loc[df['DOLocationID'].isin(value), 'DO_loc'] = key\n",
    "    \n",
    "    ### =============================================================================================== ###\n",
    "    \n",
    "    if taxi_type == 'yellow':\n",
    "        t_do = 'tpep_dropoff_datetime'\n",
    "        t_pu = 'tpep_pickup_datetime'\n",
    "        dist = 'trip_distance'\n",
    "    elif taxi_type == 'green':\n",
    "        t_do = 'lpep_dropoff_datetime'\n",
    "        t_pu = 'lpep_pickup_datetime'\n",
    "        dist = 'trip_distance'\n",
    "    else:\n",
    "        t_do = 'dropoff_datetime'\n",
    "        t_pu = 'pickup_datetime'\n",
    "        dist = 'trip_miles'\n",
    "        df['total_amount'] = df['base_passenger_fare'] + df['congestion_surcharge'] + df['tolls'] +\\\n",
    "        df['sales_tax'] + df['airport_fee'] + df['tips']\n",
    "    \n",
    "    # Eliminate the row with negative fare\n",
    "    df = df[df['total_amount'] > 0]\n",
    "    print(\"%-30s %4d\" % (\"# of trips\", len(df)))\n",
    "    \n",
    "    df['trip_time'] = (df[t_do] - df[t_pu])/np.timedelta64(1, 'm')\n",
    "    df['price_per_miles'] = df['total_amount']/df[dist]\n",
    "    df['price_per_time'] = df['total_amount']/df['trip_time']\n",
    "    \n",
    "    if taxi_type == 'yellow' or taxi_type == 'green':\n",
    "        num_of_trips = pd.DataFrame(0, index=range(1, N+1), columns=range(1, N+1))\n",
    "        sum_price = pd.DataFrame(index=range(1, N+1), columns=range(1, N+1))\n",
    "        max_price = pd.DataFrame(index=range(1, N+1), columns=range(1, N+1))\n",
    "        min_price = pd.DataFrame(index=range(1, N+1), columns=range(1, N+1))\n",
    "        sum_dist = pd.DataFrame(index=range(1, N+1), columns=range(1, N+1))\n",
    "        sum_time = pd.DataFrame(index=range(1, N+1), columns=range(1, N+1))\n",
    "        # Calculate average price/miles & price/time for each pair of locations\n",
    "        for i in range(1, N+1):\n",
    "            for j in range(1, N+1):\n",
    "                trips = df[(df['PU_loc'] == i) & (df['DO_loc'] == j)]\n",
    "                if len(trips) > 0:\n",
    "                    num_of_trips.loc[i, j] = len(trips)\n",
    "                    sum_price.loc[i, j] = sum(trips['total_amount'])/len(trips)\n",
    "                    max_price.loc[i, j] = max(trips['total_amount'])\n",
    "                    min_price.loc[i, j] = min(trips['total_amount'])\n",
    "                    sum_dist.loc[i,j] = sum(trips[dist])\n",
    "                    sum_time.loc[i,j] = sum(trips['trip_time'])\n",
    "                else:\n",
    "                    num_of_trips.loc[i, j] = 0\n",
    "                    sum_price.loc[i, j] = 0\n",
    "                    max_price.loc[i, j] = 0\n",
    "                    min_price.loc[i, j] = 0\n",
    "                    sum_dist.loc[i,j] = 0\n",
    "                    sum_time.loc[i,j] = 0\n",
    "\n",
    "        # Display the resulting table\n",
    "        print(\"number of trips:\")\n",
    "        print(num_of_trips)\n",
    "        \n",
    "        return {'num': num_of_trips, 'sum_p': sum_price, 'p_max': max_price, 'p_min': min_price,\\\n",
    "                'sum_dist': sum_dist, 'sum_time': sum_time}\n",
    "    else:\n",
    "        _dict = []\n",
    "        for hvfhs_license_num in ['HV0003', 'HV0005']:\n",
    "            num_of_trips = pd.DataFrame(0, index=range(1, N+1), columns=range(1, N+1))\n",
    "            sum_price = pd.DataFrame(index=range(1, N+1), columns=range(1, N+1))\n",
    "            max_price = pd.DataFrame(index=range(1, N+1), columns=range(1, N+1))\n",
    "            min_price = pd.DataFrame(index=range(1, N+1), columns=range(1, N+1))\n",
    "            sum_dist = pd.DataFrame(index=range(1, N+1), columns=range(1, N+1))\n",
    "            sum_time = pd.DataFrame(index=range(1, N+1), columns=range(1, N+1))\n",
    "\n",
    "            for i in range(1, N+1):\n",
    "                for j in range(1, N+1):\n",
    "                    trips = df[(df['PU_loc'] == i) & (df['DO_loc'] == j) & (df['hvfhs_license_num'] == hvfhs_license_num)]\n",
    "                    if len(trips) > 0:\n",
    "                        num_of_trips.loc[i, j] = len(trips)\n",
    "                        sum_price.loc[i, j] = sum(trips['total_amount'])\n",
    "                        max_price.loc[i, j] = max(trips['total_amount'])\n",
    "                        min_price.loc[i, j] = min(trips['total_amount'])\n",
    "                        sum_dist.loc[i,j] = sum(trips[dist])\n",
    "                        sum_time.loc[i,j] = sum(trips['trip_time'])\n",
    "                    else:\n",
    "                        num_of_trips.loc[i, j] = 0\n",
    "                        sum_price.loc[i, j] = 0\n",
    "                        max_price.loc[i, j] = 0\n",
    "                        min_price.loc[i, j] = 0\n",
    "                        sum_dist.loc[i,j] = 0\n",
    "                        sum_time.loc[i,j] = 0\n",
    "            \n",
    "            # Display the resulting table\n",
    "            output = 'Uber' if hvfhs_license_num == 'HV0003' else 'Lyft'\n",
    "            print(\"\\n=== %s ===\" %output)\n",
    "            print(\"number of trips:\")\n",
    "            print(num_of_trips)\n",
    "            \n",
    "            _dict.append({'num': num_of_trips, 'sum_p': sum_price, 'p_max': max_price, 'p_min': min_price,\\\n",
    "                          'sum_dist': sum_dist, 'sum_time': sum_time})\n",
    "              \n",
    "        return _dict"
   ]
  },
  {
   "cell_type": "code",
   "execution_count": 16,
   "id": "5d2d9c94",
   "metadata": {
    "ExecuteTime": {
     "end_time": "2023-08-09T17:48:02.069021Z",
     "start_time": "2023-08-09T17:47:55.978835Z"
    }
   },
   "outputs": [
    {
     "name": "stdout",
     "output_type": "stream",
     "text": [
      "taxi type                      platforms\n",
      "original length                20413539\n",
      "# of trips                     26581\n",
      "\n",
      "=== Uber ===\n",
      "number of trips:\n",
      "     1    2    3    4    5    6    7    8    9    10\n",
      "1     0  232  147   63   63   98   25   44   29   14\n",
      "2   251    0  141  132   45   92   36   34   41   20\n",
      "3   131  141    0  388  187  463  111  152   80   56\n",
      "4    53  133  389    0  142  542  252  281  139  104\n",
      "5    51   35  197  125    0  754  237  450  179  204\n",
      "6    77   76  438  474  717    0  654  887  435  297\n",
      "7    20   34  144  277  229  761    0  574  408  176\n",
      "8    18   26   98  138  314  705  273    0  527  463\n",
      "9    13   16   43   71  150  313  201  549    0  192\n",
      "10   11   22   64   91  187  351  150  674  344    0\n",
      "\n",
      "=== Lyft ===\n",
      "number of trips:\n",
      "    1    2    3    4    5    6    7    8    9    10\n",
      "1    0  130   63   31   31   34   11    5   15    4\n",
      "2   98    0   75   80   26   28   13    5   17    9\n",
      "3   67   50    0  105   60  124   29   38   35   18\n",
      "4   14   60  131    0   47  155  113   65   69   27\n",
      "5   16   19   77   55    0  233   72  122   71   44\n",
      "6   27   36   95  123  184    0  153  197  140   61\n",
      "7    9   14   35   98   89  204    0  213  179   73\n",
      "8    9    8   34   48  114  170   83    0  204  109\n",
      "9    6    8   11   25   49  107   91  177    0   82\n",
      "10   7    6   15   45   59   95   43  165  125    0\n"
     ]
    }
   ],
   "source": [
    "[uber, lyft] = cab_filter(df_platform, time_start, time_end, all_zones, several_zones, taxi_type='platforms', N=len(loc.values()))"
   ]
  },
  {
   "cell_type": "code",
   "execution_count": 17,
   "outputs": [
    {
     "name": "stdout",
     "output_type": "stream",
     "text": [
      "         1        2         3        4         5         6        7   \\\n",
      "1         0   3739.5   3572.85  2001.97   2011.55   3705.52  1054.85   \n",
      "2   4407.62        0    2934.5  2778.13   1540.12   3351.63  1256.98   \n",
      "3   2842.22  2792.57         0  8268.01   4074.44  11819.52  3285.24   \n",
      "4   1637.25  2634.12    8837.2        0    4388.2  15140.43   5533.9   \n",
      "5   1815.11  1196.47   4469.59  4052.71         0  15134.07  5703.54   \n",
      "6   3022.69  2472.38  11574.04  11934.5  15375.17         0  12732.0   \n",
      "7    776.45  1024.75   4292.98   6206.3   5689.66   15329.2        0   \n",
      "8    721.11  1059.72   3683.34  5594.73   7618.18  17697.82  6503.41   \n",
      "9    605.95   574.92   1683.88  2318.87    4620.1   8686.08  3694.83   \n",
      "10   510.07   911.19    2571.9  4272.96   5552.14  12096.18  4598.87   \n",
      "\n",
      "          8         9         10  \n",
      "1     1981.8   1360.53     748.3  \n",
      "2    1519.51   1538.95    819.43  \n",
      "3    5896.75   3295.85   2400.99  \n",
      "4   11390.66   4472.57   4545.89  \n",
      "5   10698.96   5583.67   6384.86  \n",
      "6   21649.71  11663.06  10689.61  \n",
      "7   13980.64   8681.22   5532.03  \n",
      "8          0   9777.84   9046.57  \n",
      "9    9668.83         0   3921.96  \n",
      "10  13408.14   7358.61         0  \n"
     ]
    }
   ],
   "source": [
    "print(uber['sum_p'])"
   ],
   "metadata": {
    "collapsed": false,
    "ExecuteTime": {
     "end_time": "2023-08-09T17:48:02.078537Z",
     "start_time": "2023-08-09T17:48:02.072002Z"
    }
   }
  },
  {
   "cell_type": "code",
   "execution_count": 18,
   "id": "43b553e6",
   "metadata": {
    "ExecuteTime": {
     "end_time": "2023-08-09T17:48:02.144766Z",
     "start_time": "2023-08-09T17:48:02.074281Z"
    }
   },
   "outputs": [
    {
     "name": "stdout",
     "output_type": "stream",
     "text": [
      "taxi type                      yellow\n",
      "original length                3403766\n",
      "# of trips                     9692\n",
      "number of trips:\n",
      "    1    2    3    4    5    6    7    8    9    10\n",
      "1    0   18   33   15    2    5    2    1    4    0\n",
      "2   12    0   36   45    2    8   10    1    4    1\n",
      "3   94   82    0  353  152  275   91   53   31   19\n",
      "4   21  132  390    0   86  387  257  101   73   31\n",
      "5   10   11  140   79    0  302   86  159   41   35\n",
      "6   22   55  457  632  453    0  587  465  220  153\n",
      "7    9   18  112  286   97  376    0  206  191   47\n",
      "8    6    6   44   56  114  232  107    0  164  128\n",
      "9    3    3   16   33   33   70   59   80    0   24\n",
      "10   6    4   21   43   44   72   32  137   79    0\n"
     ]
    }
   ],
   "source": [
    "yellow = cab_filter(df_yellow, time_start, time_end, all_zones, several_zones, taxi_type='yellow', N=len(loc.values()))"
   ]
  },
  {
   "cell_type": "code",
   "execution_count": 19,
   "id": "92fbf16b",
   "metadata": {
    "ExecuteTime": {
     "end_time": "2023-08-09T17:48:02.183637Z",
     "start_time": "2023-08-09T17:48:02.145412Z"
    }
   },
   "outputs": [
    {
     "name": "stdout",
     "output_type": "stream",
     "text": [
      "taxi type                      green\n",
      "original length                72044\n",
      "# of trips                      136\n",
      "number of trips:\n",
      "    1   2   3   4   5   6   7   8   9   10\n",
      "1    0   8  14   3   4   3   1   1   2   0\n",
      "2   11   0  34  32   3   1   1   1   0   0\n",
      "3    0   3   0   7   1   3   2   0   0   0\n",
      "4    0   0   1   0   0   0   0   0   0   0\n",
      "5    0   0   0   0   0   0   0   0   0   0\n",
      "6    0   0   0   0   0   0   0   0   0   0\n",
      "7    0   0   0   0   0   0   0   0   0   0\n",
      "8    0   0   0   0   0   0   0   0   0   0\n",
      "9    0   0   0   0   0   0   0   0   0   0\n",
      "10   0   0   0   0   0   0   0   0   0   0\n"
     ]
    }
   ],
   "source": [
    "green = cab_filter(df_green, time_start, time_end, all_zones, several_zones, taxi_type='green', N=len(loc.values()))"
   ]
  },
  {
   "cell_type": "code",
   "execution_count": 20,
   "id": "160d3100",
   "metadata": {
    "ExecuteTime": {
     "end_time": "2023-08-09T17:48:02.228064Z",
     "start_time": "2023-08-09T17:48:02.188421Z"
    }
   },
   "outputs": [
    {
     "name": "stdout",
     "output_type": "stream",
     "text": [
      "     1    2    3     4     5     6     7     8    9    10\n",
      "1     0  388  257   112   100   140    39    51   50   18\n",
      "2   372    0  286   289    76   129    60    41   62   30\n",
      "3   292  276    0   853   400   865   233   243  146   93\n",
      "4    88  325  911     0   275  1084   622   447  281  162\n",
      "5    77   65  414   259     0  1289   395   731  291  283\n",
      "6   126  167  990  1229  1354     0  1394  1549  795  511\n",
      "7    38   66  291   661   415  1341     0   993  778  296\n",
      "8    33   40  176   242   542  1107   463     0  895  700\n",
      "9    22   27   70   129   232   490   351   806    0  298\n",
      "10   24   32  100   179   290   518   225   976  548    0\n"
     ]
    }
   ],
   "source": [
    "N = len(loc.values())\n",
    "total_trips = pd.DataFrame(0, index=range(1, N+1), columns=range(1, N+1))\n",
    "total_trips = total_trips.add(uber['num'])\n",
    "total_trips = total_trips.add(lyft['num'])\n",
    "total_trips = total_trips.add(yellow['num'])\n",
    "total_trips = total_trips.add(green['num'])\n",
    "print(total_trips)\n",
    "\n",
    "min_price = pd.DataFrame(index=range(1, N+1), columns=range(1, N+1))\n",
    "max_price = pd.DataFrame(index=range(1, N+1), columns=range(1, N+1))\n",
    "avg_price = pd.DataFrame(index=range(1, N+1), columns=range(1, N+1))\n",
    "avg_time = pd.DataFrame(index=range(1, N+1), columns=range(1, N+1))\n",
    "avg_dist = pd.DataFrame(index=range(1, N+1), columns=range(1, N+1))\n",
    "\n",
    "for i in range(1, N+1):\n",
    "    for j in range(1, N+1):\n",
    "        lst_dist = [uber['sum_dist'].loc[i,j], lyft['sum_dist'].loc[i,j], yellow['sum_dist'].loc[i,j], green['sum_dist'].loc[i,j]]\n",
    "        lst_time = [uber['sum_time'].loc[i,j], lyft['sum_time'].loc[i,j], yellow['sum_time'].loc[i,j], green['sum_time'].loc[i,j]]\n",
    "        lst_num = [uber['num'].loc[i,j], lyft['num'].loc[i,j], yellow['num'].loc[i,j], green['num'].loc[i,j]]\n",
    "        avg_dist.loc[i,j] = sum(lst_dist)/sum(lst_num) if i != j else 0\n",
    "        avg_time.loc[i,j] = sum(lst_time)/sum(lst_num) if i != j else 0\n",
    "        if i != j:\n",
    "            lst = [uber['p_min'].loc[i,j], lyft['p_min'].loc[i,j], yellow['p_min'].loc[i,j], green['p_min'].loc[i,j]]\n",
    "            min_price.loc[i,j] = min([x for x in lst if x != 0])\n",
    "            lst = [uber['p_max'].loc[i,j], lyft['p_max'].loc[i,j], yellow['p_max'].loc[i,j], green['p_max'].loc[i,j]]\n",
    "            max_price.loc[i,j] = min([x for x in lst if x != 0])\n",
    "            lst_price =[uber['sum_p'].loc[i,j], lyft['sum_p'].loc[i,j], yellow['sum_p'].loc[i,j], green['sum_p'].loc[i,j]]\n",
    "            avg_price.loc[i,j] = sum(lst_price)/sum(lst_num)"
   ]
  },
  {
   "cell_type": "code",
   "execution_count": 21,
   "outputs": [
    {
     "name": "stdout",
     "output_type": "stream",
     "text": [
      "       1      2      3      4      5      6      7      8      9      10\n",
      "1     NaN    5.2   5.66  16.61  13.63  22.18  27.29  22.54  34.38  34.05\n",
      "2    5.83    NaN   6.71    7.5   21.4   12.9  15.63  27.56  21.12  30.23\n",
      "3    5.14   7.73    NaN   5.82   6.85   8.88   12.3  19.44  21.43  24.25\n",
      "4   17.96   7.58   8.57    NaN  11.45    8.0   9.67   17.2  13.62   6.98\n",
      "5   16.61  19.34   9.44  11.74    NaN   7.21    9.8   7.78  15.42  14.41\n",
      "6   20.26  14.74   8.17   8.68   7.99    NaN   4.71   7.78  10.77  16.15\n",
      "7   26.92   17.7  17.23   7.85  12.59   7.68    NaN   5.57   9.24  17.57\n",
      "8    27.7   23.7   20.5  19.84   9.67   8.15   6.78    NaN   2.07   0.53\n",
      "9    37.0  22.58  22.38  15.66  15.56   9.09   8.75   5.07    NaN   9.55\n",
      "10  36.83  28.58  25.04  21.44    9.2  11.74  10.75   5.97   9.39    NaN\n"
     ]
    }
   ],
   "source": [
    "print(min_price)"
   ],
   "metadata": {
    "collapsed": false,
    "ExecuteTime": {
     "end_time": "2023-08-09T17:48:02.228248Z",
     "start_time": "2023-08-09T17:48:02.210268Z"
    }
   }
  },
  {
   "cell_type": "code",
   "execution_count": 22,
   "outputs": [
    {
     "name": "stdout",
     "output_type": "stream",
     "text": [
      "       1      2      3      4      5      6      7      8      9      10\n",
      "1     NaN  21.72  27.23  29.34   37.4  44.16  47.44  38.45  60.12  46.78\n",
      "2    28.4    NaN  33.55  30.72   36.6  29.34  31.44   43.2   45.5   47.9\n",
      "3    37.1   11.4    NaN  29.97  28.92  38.15   40.8   53.3   49.2  46.94\n",
      "4   51.54   36.2   21.9    NaN  39.83  42.48  34.48  48.92   44.2  45.42\n",
      "5    50.2  46.58  35.97  42.48    NaN  37.24   36.6  38.28  40.43  47.52\n",
      "6   46.37  46.02  52.56  49.03   48.7    NaN  33.15  45.84  47.75  50.88\n",
      "7   53.99  34.06  44.69  30.74   36.9   34.3    NaN  39.95  43.29  41.56\n",
      "8   50.38  45.82  43.19  51.72   46.0  39.96  29.17    NaN  47.04   32.0\n",
      "9   57.17  41.33  45.81  36.76   45.0   49.2  29.72  29.22    NaN  28.35\n",
      "10   56.0  41.83  58.56   62.6  40.73  50.88  44.16  37.94  39.12    NaN\n"
     ]
    }
   ],
   "source": [
    "print(max_price)"
   ],
   "metadata": {
    "collapsed": false,
    "ExecuteTime": {
     "end_time": "2023-08-09T17:48:02.228380Z",
     "start_time": "2023-08-09T17:48:02.221279Z"
    }
   }
  },
  {
   "cell_type": "code",
   "execution_count": 23,
   "outputs": [
    {
     "name": "stdout",
     "output_type": "stream",
     "text": [
      "      1     2     3     4     5     6     7     8     9     10\n",
      "1    NaN  14.7  19.0  26.6  29.9  36.3  40.3  44.0  44.3  51.3\n",
      "2   16.0   NaN  15.3  14.6  32.0  33.6  29.4  44.6  36.6  41.4\n",
      "3   14.3  13.6   NaN  11.8  13.1  17.0  17.9  29.5  31.4  33.0\n",
      "4   24.2  11.6  12.3   NaN  20.9  17.6  12.5  30.3  23.1  33.8\n",
      "5   30.3  28.5  14.1  21.4   NaN  14.7  18.3  18.1  25.8  26.6\n",
      "6   31.8  21.3  13.9  11.9  13.9   NaN  11.0  16.7  19.0  24.7\n",
      "7   31.0  21.5  18.1  12.2  18.8  14.3   NaN  18.5  15.4  25.1\n",
      "8   36.0  34.9  26.8  29.5  18.7  19.2  17.4   NaN  14.9  15.6\n",
      "9   43.6  33.1  30.1  23.3  26.1  22.8  15.0  15.6   NaN  18.4\n",
      "10  36.9  37.1  31.6  32.2  24.0  28.6  25.1  16.7  17.9   NaN\n"
     ]
    }
   ],
   "source": [
    "print(avg_price.applymap(lambda x: round(x, 1)))"
   ],
   "metadata": {
    "collapsed": false,
    "ExecuteTime": {
     "end_time": "2023-08-09T17:48:02.228715Z",
     "start_time": "2023-08-09T17:48:02.221384Z"
    }
   }
  },
  {
   "cell_type": "code",
   "execution_count": 24,
   "outputs": [
    {
     "name": "stdout",
     "output_type": "stream",
     "text": [
      "           1         2         3         4         5         6         7   \\\n",
      "1           0  2.414196  3.367992  4.476054   6.35225   6.82235  8.039769   \n",
      "2    2.439449         0  2.412993  2.147509  5.829118  5.339938  5.147933   \n",
      "3    3.423918  2.523011         0  1.952321  2.212232  2.312779  3.193356   \n",
      "4    5.034648  2.219714  1.936137         0  3.411167  2.346753  2.235019   \n",
      "5    6.895727  6.143708  2.275365  3.552274         0  1.466987  1.993339   \n",
      "6    7.288429  4.841024  2.357212  2.183819  1.555332         0  1.375315   \n",
      "7    7.491395  4.800424   3.28823  2.090256  2.056014  1.414358         0   \n",
      "8    9.701364  7.458275  4.674972  4.748145  2.362596  2.099642  2.131963   \n",
      "9    9.906773  7.963926  5.692514  4.471047  3.459095  2.571635  1.868097   \n",
      "10  10.367708  8.963125   6.05198  6.961855     3.571  4.122633  4.692156   \n",
      "\n",
      "          8         9          10  \n",
      "1   8.927569  10.05962  10.482667  \n",
      "2    7.96522   7.91271     9.3142  \n",
      "3   4.712062  5.892445   6.445215  \n",
      "4   5.088993  4.846185   7.356506  \n",
      "5   2.211765  3.258887   3.563661  \n",
      "6   2.030394  2.542152   4.246086  \n",
      "7   2.223575  2.051272   4.555669  \n",
      "8          0  1.364295    1.63412  \n",
      "9   1.378839         0   2.323423  \n",
      "10  1.733134  2.449814          0  \n"
     ]
    }
   ],
   "source": [
    "print(avg_dist)"
   ],
   "metadata": {
    "collapsed": false,
    "ExecuteTime": {
     "end_time": "2023-08-09T17:48:02.228791Z",
     "start_time": "2023-08-09T17:48:02.223164Z"
    }
   }
  },
  {
   "cell_type": "code",
   "execution_count": 27,
   "outputs": [
    {
     "name": "stdout",
     "output_type": "stream",
     "text": [
      "from 1 to 2\n",
      "Expected Valuation:  17.886047241727205\n",
      "from 1 to 3\n",
      "Expected Valuation:  26.504961002957472\n",
      "from 1 to 4\n",
      "Expected Valuation:  33.20817320806205\n",
      "from 1 to 5\n",
      "Expected Valuation:  36.032745542455025\n",
      "from 1 to 6\n",
      "Expected Valuation:  44.1469044783403\n",
      "from 1 to 7\n",
      "Expected Valuation:  45.85291393009225\n",
      "from 1 to 8\n",
      "Expected Valuation:  82.78468239393393\n",
      "from 1 to 9\n",
      "Expected Valuation:  48.45827615936707\n",
      "from 1 to 10\n",
      "Expected Valuation:  67.84753149430266\n",
      "from 2 to 1\n",
      "Expected Valuation:  21.51670592652636\n",
      "from 2 to 3\n",
      "Expected Valuation:  20.739654663097348\n",
      "from 2 to 4\n",
      "Expected Valuation:  20.3333721407924\n",
      "from 2 to 5\n",
      "Expected Valuation:  36.08693955977944\n",
      "from 2 to 6\n",
      "Expected Valuation:  47.16862947305732\n",
      "from 2 to 7\n",
      "Expected Valuation:  38.046938165080576\n",
      "from 2 to 8\n",
      "Expected Valuation:  64.61511464162251\n",
      "from 2 to 9\n",
      "Expected Valuation:  42.382394546880576\n",
      "from 2 to 10\n",
      "Expected Valuation:  44.27913074715124\n",
      "from 3 to 1\n",
      "Expected Valuation:  20.71571748720468\n",
      "from 3 to 2\n",
      "Expected Valuation:  20.020538647839572\n",
      "from 3 to 4\n",
      "Expected Valuation:  20.492092156060703\n",
      "from 3 to 5\n",
      "Expected Valuation:  21.21797808092764\n",
      "from 3 to 6\n",
      "Expected Valuation:  26.436831895472988\n",
      "from 3 to 7\n",
      "Expected Valuation:  29.093348228369837\n",
      "from 3 to 8\n",
      "Expected Valuation:  42.91447697452967\n",
      "from 3 to 9\n",
      "Expected Valuation:  42.59904541244881\n",
      "from 3 to 10\n",
      "Expected Valuation:  45.94006701768777\n",
      "from 4 to 1\n",
      "Expected Valuation:  33.02083529990996\n",
      "from 4 to 2\n",
      "Expected Valuation:  18.47486425271048\n",
      "from 4 to 3\n",
      "Expected Valuation:  21.46520376739195\n",
      "from 4 to 5\n",
      "Expected Valuation:  31.410251077527107\n",
      "from 4 to 6\n",
      "Expected Valuation:  28.042809909516492\n",
      "from 4 to 7\n",
      "Expected Valuation:  20.55593414195039\n",
      "from 4 to 8\n",
      "Expected Valuation:  45.70106854867492\n",
      "from 4 to 9\n",
      "Expected Valuation:  32.08039233280421\n",
      "from 4 to 10\n",
      "Expected Valuation:  53.31136940192065\n",
      "from 5 to 1\n",
      "Expected Valuation:  41.282047339753234\n",
      "from 5 to 2\n",
      "Expected Valuation:  35.01234876148719\n",
      "from 5 to 3\n",
      "Expected Valuation:  22.293221841026607\n",
      "from 5 to 4\n",
      "Expected Valuation:  32.00955011742538\n",
      "from 5 to 6\n",
      "Expected Valuation:  21.828404734763488\n",
      "from 5 to 7\n",
      "Expected Valuation:  26.395181290466173\n",
      "from 5 to 8\n",
      "Expected Valuation:  26.92194341851387\n",
      "from 5 to 9\n",
      "Expected Valuation:  34.211083859244866\n",
      "from 5 to 10\n",
      "Expected Valuation:  39.40681123444848\n",
      "from 6 to 1\n",
      "Expected Valuation:  42.72847662631882\n",
      "from 6 to 2\n",
      "Expected Valuation:  31.528142587339655\n",
      "from 6 to 3\n",
      "Expected Valuation:  25.16760675040492\n",
      "from 6 to 4\n",
      "Expected Valuation:  22.968163574908186\n",
      "from 6 to 5\n",
      "Expected Valuation:  22.053488830645374\n",
      "from 6 to 7\n",
      "Expected Valuation:  18.967784391472925\n",
      "from 6 to 8\n",
      "Expected Valuation:  26.33703980361701\n",
      "from 6 to 9\n",
      "Expected Valuation:  27.96145492800795\n",
      "from 6 to 10\n",
      "Expected Valuation:  38.524572684098246\n",
      "from 7 to 1\n",
      "Expected Valuation:  39.26457040528351\n",
      "from 7 to 2\n",
      "Expected Valuation:  30.404966643312914\n",
      "from 7 to 3\n",
      "Expected Valuation:  29.72871185270041\n",
      "from 7 to 4\n",
      "Expected Valuation:  20.991961533323988\n",
      "from 7 to 5\n",
      "Expected Valuation:  25.791279912032866\n",
      "from 7 to 6\n",
      "Expected Valuation:  21.457034983097333\n",
      "from 7 to 8\n",
      "Expected Valuation:  26.775529778727414\n",
      "from 7 to 9\n",
      "Expected Valuation:  21.71586365523223\n",
      "from 7 to 10\n",
      "Expected Valuation:  33.51572895092791\n",
      "from 8 to 1\n",
      "Expected Valuation:  40.878117385696605\n",
      "from 8 to 2\n",
      "Expected Valuation:  45.314799640053074\n",
      "from 8 to 3\n",
      "Expected Valuation:  39.03358419711295\n",
      "from 8 to 4\n",
      "Expected Valuation:  42.773477854993054\n",
      "from 8 to 5\n",
      "Expected Valuation:  26.092363819543362\n",
      "from 8 to 6\n",
      "Expected Valuation:  29.218343653237145\n",
      "from 8 to 7\n",
      "Expected Valuation:  26.337499475555855\n",
      "from 8 to 9\n",
      "Expected Valuation:  21.081522200436318\n",
      "from 8 to 10\n",
      "Expected Valuation:  25.5379822187296\n",
      "from 9 to 1\n",
      "Expected Valuation:  47.98321785416266\n",
      "from 9 to 2\n",
      "Expected Valuation:  37.882966064600446\n",
      "from 9 to 3\n",
      "Expected Valuation:  42.322924510813564\n",
      "from 9 to 4\n",
      "Expected Valuation:  33.93993816869042\n",
      "from 9 to 5\n",
      "Expected Valuation:  34.76449807999929\n",
      "from 9 to 6\n",
      "Expected Valuation:  32.36033737191542\n",
      "from 9 to 7\n",
      "Expected Valuation:  19.462475857941953\n",
      "from 9 to 8\n",
      "Expected Valuation:  22.09111603789863\n",
      "from 9 to 10\n",
      "Expected Valuation:  23.206818357806295\n",
      "from 10 to 1\n",
      "Expected Valuation:  45.857804443934185\n",
      "from 10 to 2\n",
      "Expected Valuation:  46.115151970748165\n",
      "from 10 to 3\n",
      "Expected Valuation:  43.87104281050055\n",
      "from 10 to 4\n",
      "Expected Valuation:  47.289328452780026\n",
      "from 10 to 5\n",
      "Expected Valuation:  35.0535517411599\n",
      "from 10 to 6\n",
      "Expected Valuation:  42.30072071072414\n",
      "from 10 to 7\n",
      "Expected Valuation:  36.925883432964405\n",
      "from 10 to 8\n",
      "Expected Valuation:  25.247815468262374\n",
      "from 10 to 9\n",
      "Expected Valuation:  24.019607370451315\n",
      "beta DataFrame:\n",
      "          1         2         3         4         5         6         7   \\\n",
      "1        NaN  0.233324  0.142369  0.177561   0.13182  0.134162  0.158657   \n",
      "2   0.188809       NaN  0.210779  0.230163  0.200529  0.086422  0.131648   \n",
      "3   0.190299  0.240235       NaN  0.201783  0.205819  0.168377  0.175694   \n",
      "4   0.195607  0.270877  0.228908       NaN  0.147997  0.147707  0.270833   \n",
      "5   0.119635  0.187963  0.229549  0.145731       NaN  0.202253  0.177979   \n",
      "6   0.131211  0.175623  0.173969  0.206685  0.210063       NaN  0.207888   \n",
      "7   0.238528  0.231823  0.235652  0.224732  0.223281  0.214453       NaN   \n",
      "8   0.223442  0.136319  0.158979  0.128569  0.179855  0.140545  0.151507   \n",
      "9   0.268086  0.192454   0.14774  0.161305  0.153571  0.127237  0.275301   \n",
      "10  0.326152  0.167941  0.156417  0.114084  0.114592  0.096895  0.113078   \n",
      "\n",
      "          8         9         10  \n",
      "1   0.049161  0.209151    0.0872  \n",
      "2   0.079619  0.138613  0.209588  \n",
      "3   0.125626  0.139217  0.135841  \n",
      "4   0.103619  0.159823  0.064265  \n",
      "5    0.15464  0.156942  0.118174  \n",
      "6   0.159484  0.171753  0.131876  \n",
      "7   0.139977  0.236484  0.184782  \n",
      "8        NaN   0.15684  0.119668  \n",
      "9   0.174252       NaN   0.21609  \n",
      "10  0.153816  0.201804       NaN  \n",
      "k DataFrame:\n",
      "                1            2            3           4            5   \\\n",
      "1              NaN    63.925892    42.531637   362.75614   114.565358   \n",
      "2        57.122403          NaN     78.16046  106.767974  1388.198532   \n",
      "3        50.530308   121.687836          NaN   61.486235    77.812479   \n",
      "4       637.492549   148.070395   135.122076         NaN   103.441486   \n",
      "5       138.596684   720.286574   165.899929  105.143144          NaN   \n",
      "6       271.179647   252.932521    78.709917  114.258923   101.782763   \n",
      "7     11679.732453  1150.224442  1101.824296  110.894941     315.9395   \n",
      "8      9263.031358   480.683714   494.485558  243.532424   108.162575   \n",
      "9    386003.950418  1465.653078   518.457583  237.571853    207.26584   \n",
      "10  3130266.361763  2308.133989   954.424592  219.289979    54.526467   \n",
      "\n",
      "            6            7           8             9             10  \n",
      "1   372.467002  1442.570979   57.542293  25210.945521    370.032921  \n",
      "2     57.93252   148.724248  170.500031    354.941707  10724.548903  \n",
      "3    84.743456    164.92165  218.461444    375.353404     512.12631  \n",
      "4    61.935406   260.705545  112.920938    167.540364      29.75538  \n",
      "5    81.669417   108.704652   63.278248    213.680669    104.306171  \n",
      "6          NaN    50.581678   65.708037    120.809847    159.850793  \n",
      "7    98.636153          NaN   41.434381    168.941096    488.363331  \n",
      "8    59.732566    53.072512         NaN     26.287631     20.244092  \n",
      "9    60.402329   211.310099   45.965719           NaN      149.6198  \n",
      "10   59.262864    64.073519   47.594592    126.391307           NaN  \n"
     ]
    }
   ],
   "source": [
    "beta_df = pd.DataFrame(index=range(1, N+1), columns=range(1, N+1))\n",
    "k_df = pd.DataFrame(index=range(1, N+1), columns=range(1, N+1))\n",
    "\n",
    "for i in range(1, N+1):\n",
    "    for j in range(1, N+1):\n",
    "        if i != j:\n",
    "            print(f\"from {i} to {j}\")\n",
    "            p_u = uber['sum_p'].loc[i,j]/uber['num'].loc[i,j]\n",
    "            q_u = uber['num'].loc[i,j]/total_trips.loc[i,j]\n",
    "            p_max = max_price.loc[i,j]\n",
    "            p_min = min_price.loc[i,j]#uber['p_min'].loc[i,j]#min_price.loc[i,j]\n",
    "            q_min = 0.95\n",
    "\n",
    "            beta = 1/(p_u-p_min) * np.log((1-q_u)/q_u * q_min/(1-q_min))\n",
    "            k = q_u * np.exp(beta * p_u)/(1-q_u)\n",
    "\n",
    "            # Store the optimized parameters in the respective DataFrames\n",
    "            beta_df.loc[i, j] = beta\n",
    "            k_df.loc[i, j] = k\n",
    "\n",
    "\n",
    "            print(\"Expected Valuation: \", 1/beta * np.log(1+k))\n",
    "\n",
    "# Print the resulting DataFrames\n",
    "print(\"beta DataFrame:\")\n",
    "print(beta_df)\n",
    "\n",
    "print(\"k DataFrame:\")\n",
    "print(k_df)"
   ],
   "metadata": {
    "collapsed": false,
    "ExecuteTime": {
     "end_time": "2023-08-09T17:48:21.025966Z",
     "start_time": "2023-08-09T17:48:21.005615Z"
    }
   }
  },
  {
   "cell_type": "code",
   "execution_count": 28,
   "outputs": [],
   "source": [
    "data = {'market_size': total_trips, 'beta': beta_df, 'k': k_df, 'avg_dist': avg_dist, 'avg_time': avg_time, 'uber': uber}"
   ],
   "metadata": {
    "collapsed": false,
    "ExecuteTime": {
     "end_time": "2023-08-09T17:48:21.496153Z",
     "start_time": "2023-08-09T17:48:21.477786Z"
    }
   }
  },
  {
   "cell_type": "code",
   "execution_count": 123,
   "outputs": [
    {
     "name": "stdout",
     "output_type": "stream",
     "text": [
      "     1    2    3     4     5     6     7     8    9    10\n",
      "1     0  388  257   112   100   140    39    51   50   18\n",
      "2   372    0  286   289    76   129    60    41   62   30\n",
      "3   292  276    0   853   400   865   233   243  146   93\n",
      "4    88  325  911     0   275  1084   622   447  281  162\n",
      "5    77   65  414   259     0  1289   395   731  291  283\n",
      "6   126  167  990  1229  1354     0  1394  1549  795  511\n",
      "7    38   66  291   661   415  1341     0   993  778  296\n",
      "8    33   40  176   242   542  1107   463     0  895  700\n",
      "9    22   27   70   129   232   490   351   806    0  298\n",
      "10   24   32  100   179   290   518   225   976  548    0\n",
      "          1         2         3         4         5         6         7   \\\n",
      "1        NaN  0.233324  0.168591  0.198355  0.173549  0.136342  0.176018   \n",
      "2   0.204878       NaN  0.227735  0.246737  0.237359  0.133517  0.131648   \n",
      "3   0.239842  0.260515       NaN  0.274663   0.23672  0.168377   0.18751   \n",
      "4   0.195607  0.299544  0.260379       NaN  0.179679  0.171844  0.277378   \n",
      "5   0.127924  0.297953  0.229549  0.151519       NaN  0.202253  0.203027   \n",
      "6   0.202544  0.222685  0.173969  0.207819  0.213072       NaN  0.207888   \n",
      "7   0.238528  0.231823  0.235652   0.22613   0.26147  0.214453       NaN   \n",
      "8   0.223442  0.254185  0.184585  0.156274  0.203099  0.140545  0.184138   \n",
      "9   0.268086   0.22716   0.14774  0.161305  0.160193  0.127237  0.275301   \n",
      "10  0.413762  0.167941  0.171226  0.116597  0.114592  0.118101  0.165061   \n",
      "\n",
      "          8         9         10  \n",
      "1   0.066353  0.209151    0.0872  \n",
      "2   0.079619  0.138613  0.209588  \n",
      "3   0.125626  0.139217  0.183936  \n",
      "4   0.127494  0.202626  0.064265  \n",
      "5   0.172547  0.156942  0.138611  \n",
      "6   0.165764  0.177966  0.131876  \n",
      "7   0.139977  0.266855  0.184782  \n",
      "8        NaN   0.15684  0.119668  \n",
      "9   0.174252       NaN   0.21609  \n",
      "10  0.153816  0.201804       NaN  \n",
      "                  1             2            3           4            5   \\\n",
      "1                NaN     63.925892    80.445526  702.396808   434.210343   \n",
      "2          75.744304           NaN   111.237124  151.335761  4896.507306   \n",
      "3         148.040683    181.835684          NaN  290.568735   152.562269   \n",
      "4         637.492549    261.242973   276.203064         NaN   275.354683   \n",
      "5         186.161002  30934.741138   165.899929  126.845591          NaN   \n",
      "6        4460.478389   1169.245063    78.709917  117.567325    108.56696   \n",
      "7       11679.732453   1150.224442  1101.824296  114.424019   815.973492   \n",
      "8        9263.031358  58642.805401  1294.509823  748.768535   190.106512   \n",
      "9      386003.950418   5100.602205   518.457583  237.571853   254.158901   \n",
      "10  181925399.417432   2308.133989  1730.644273  246.758103    54.526467   \n",
      "\n",
      "            6            7           8             9             10  \n",
      "1    404.47881  3001.013226  124.818977  25210.945521    370.032921  \n",
      "2   322.145497   148.724248  170.500031    354.941707  10724.548903  \n",
      "3    84.743456   233.971331  218.461444    375.353404   4026.496176  \n",
      "4   121.553449    301.00382  297.223868    664.146761      29.75538  \n",
      "5    81.669417   198.628504   96.861826    213.680669    197.742216  \n",
      "6          NaN    50.581678   76.593727    142.706277    159.850793  \n",
      "7    98.636153          NaN   41.434381    322.392463    488.363331  \n",
      "8    59.732566   115.468208         NaN     26.287631     20.244092  \n",
      "9    60.402329   211.310099   45.965719           NaN      149.6198  \n",
      "10  123.075528   315.380772   47.594592    126.391307           NaN  \n",
      "           1         2         3         4         5         6         7   \\\n",
      "1           0  2.414196  3.367992  4.476054   6.35225   6.82235  8.039769   \n",
      "2    2.439449         0  2.412993  2.147509  5.829118  5.339938  5.147933   \n",
      "3    3.423918  2.523011         0  1.952321  2.212232  2.312779  3.193356   \n",
      "4    5.034648  2.219714  1.936137         0  3.411167  2.346753  2.235019   \n",
      "5    6.895727  6.143708  2.275365  3.552274         0  1.466987  1.993339   \n",
      "6    7.288429  4.841024  2.357212  2.183819  1.555332         0  1.375315   \n",
      "7    7.491395  4.800424   3.28823  2.090256  2.056014  1.414358         0   \n",
      "8    9.701364  7.458275  4.674972  4.748145  2.362596  2.099642  2.131963   \n",
      "9    9.906773  7.963926  5.692514  4.471047  3.459095  2.571635  1.868097   \n",
      "10  10.367708  8.963125   6.05198  6.961855     3.571  4.122633  4.692156   \n",
      "\n",
      "          8         9          10  \n",
      "1   8.927569  10.05962  10.482667  \n",
      "2    7.96522   7.91271     9.3142  \n",
      "3   4.712062  5.892445   6.445215  \n",
      "4   5.088993  4.846185   7.356506  \n",
      "5   2.211765  3.258887   3.563661  \n",
      "6   2.030394  2.542152   4.246086  \n",
      "7   2.223575  2.051272   4.555669  \n",
      "8          0  1.364295    1.63412  \n",
      "9   1.378839         0   2.323423  \n",
      "10  1.733134  2.449814          0  \n",
      "           1          2          3          4          5          6   \\\n",
      "1           0   12.73329  13.931323  20.424405     20.463  26.085952   \n",
      "2   14.063127          0  14.083159  11.905594  26.411623  26.776486   \n",
      "3   13.089384  13.860386          0  12.269852  12.352708  15.178825   \n",
      "4   21.887689  15.505846  12.633681          0  21.857818  16.795264   \n",
      "5   21.451948   25.35359  12.383776  26.400965          0  12.280191   \n",
      "6   27.150265  23.572854  15.591936  15.732357  13.013712          0   \n",
      "7    31.72193  21.169697  21.631672   13.39473  18.337189  13.928151   \n",
      "8    34.05202    34.0775  25.398769  29.930028  15.966421  16.119979   \n",
      "9   41.128788  34.638889  33.390952  26.071705  24.377874  20.225306   \n",
      "10  34.434722  35.338021  27.841167  31.688175  19.311149  23.231049   \n",
      "\n",
      "           7          8          9          10  \n",
      "1   29.253846   30.86732  36.629667      34.95  \n",
      "2   21.011944  32.631301   27.63629  29.656667  \n",
      "3   19.607654  26.177229  30.426941  27.994982  \n",
      "4   12.499437  27.830201  21.233393  24.974074  \n",
      "5   16.782321  15.596762  23.905155  18.752827  \n",
      "6   12.600227  15.253002  19.081992  22.577299  \n",
      "7           0  17.282242  13.411268  18.709966  \n",
      "8   16.754248          0  13.102775  11.488976  \n",
      "9   17.042972  12.783499          0  13.291163  \n",
      "10  19.816815  12.008077  14.255383          0  \n",
      "{'num':      1    2    3    4    5    6    7    8    9    10\n",
      "1     0  232  147   63   63   98   25   44   29   14\n",
      "2   251    0  141  132   45   92   36   34   41   20\n",
      "3   131  141    0  388  187  463  111  152   80   56\n",
      "4    53  133  389    0  142  542  252  281  139  104\n",
      "5    51   35  197  125    0  754  237  450  179  204\n",
      "6    77   76  438  474  717    0  654  887  435  297\n",
      "7    20   34  144  277  229  761    0  574  408  176\n",
      "8    18   26   98  138  314  705  273    0  527  463\n",
      "9    13   16   43   71  150  313  201  549    0  192\n",
      "10   11   22   64   91  187  351  150  674  344    0, 'sum_p':          1        2         3        4         5         6        7   \\\n",
      "1         0   3739.5   3572.85  2001.97   2011.55   3705.52  1054.85   \n",
      "2   4407.62        0    2934.5  2778.13   1540.12   3351.63  1256.98   \n",
      "3   2842.22  2792.57         0  8268.01   4074.44  11819.52  3285.24   \n",
      "4   1637.25  2634.12    8837.2        0    4388.2  15140.43   5533.9   \n",
      "5   1815.11  1196.47   4469.59  4052.71         0  15134.07  5703.54   \n",
      "6   3022.69  2472.38  11574.04  11934.5  15375.17         0  12732.0   \n",
      "7    776.45  1024.75   4292.98   6206.3   5689.66   15329.2        0   \n",
      "8    721.11  1059.72   3683.34  5594.73   7618.18  17697.82  6503.41   \n",
      "9    605.95   574.92   1683.88  2318.87    4620.1   8686.08  3694.83   \n",
      "10   510.07   911.19    2571.9  4272.96   5552.14  12096.18  4598.87   \n",
      "\n",
      "          8         9         10  \n",
      "1     1981.8   1360.53     748.3  \n",
      "2    1519.51   1538.95    819.43  \n",
      "3    5896.75   3295.85   2400.99  \n",
      "4   11390.66   4472.57   4545.89  \n",
      "5   10698.96   5583.67   6384.86  \n",
      "6   21649.71  11663.06  10689.61  \n",
      "7   13980.64   8681.22   5532.03  \n",
      "8          0   9777.84   9046.57  \n",
      "9    9668.83         0   3921.96  \n",
      "10  13408.14   7358.61         0  , 'p_max':        1      2       3       4      5       6       7       8       9   \\\n",
      "1       0  41.38   70.84   75.54  51.81   68.82   65.31  110.62   129.5   \n",
      "2    46.0      0   49.63    86.4  74.97   74.04  223.02   84.71   58.38   \n",
      "3   55.27  37.11       0   69.81  54.08   68.95    92.1   109.8   87.52   \n",
      "4   53.07  42.63   67.21       0  61.64  104.35   44.33  107.67   72.67   \n",
      "5   58.78  56.48    71.7   78.15      0  137.32   59.81   80.33   61.84   \n",
      "6   77.84  53.57  186.52   67.01  69.53       0   56.36   84.66   59.94   \n",
      "7   53.99  61.11    66.3   83.87   51.3  100.87       0   64.77  104.62   \n",
      "8   50.38  60.97   85.16   81.56  62.53   77.18  114.87       0   62.71   \n",
      "9   59.62  64.21   67.58   64.53   76.0   87.91   39.65    66.0       0   \n",
      "10  57.53  51.68   63.73  111.09  81.71   82.64    76.1   86.58   56.81   \n",
      "\n",
      "        10  \n",
      "1   110.33  \n",
      "2    58.03  \n",
      "3   108.23  \n",
      "4    94.22  \n",
      "5    57.81  \n",
      "6   116.72  \n",
      "7   179.46  \n",
      "8    61.35  \n",
      "9    41.43  \n",
      "10       0  , 'p_min':        1      2      3      4      5      6      7      8      9      10\n",
      "1       0    5.2   8.56   18.2  18.03  22.43  28.76  28.37  34.38  34.05\n",
      "2    6.75      0   7.76   8.41  23.39   21.2  15.63  27.56  21.12  30.23\n",
      "3    8.56   8.67      0   9.93    8.8   8.88  13.39  19.44  21.43  29.12\n",
      "4   17.96   8.75  10.28      0  14.88   10.8   9.96  21.57  17.54   6.98\n",
      "5   17.84  24.82   9.44  12.53      0   7.21  11.56   9.44  15.42   16.9\n",
      "6   26.95   18.5   8.17   8.77   8.18      0   4.71   8.41  11.33  16.15\n",
      "7   26.92   17.7  17.23   7.94  14.38   7.68      0   5.57  10.61  17.57\n",
      "8    27.7  31.61  22.87  23.51  11.34   8.15    9.8      0   2.07   0.53\n",
      "9    37.0  24.62  22.38  15.66  16.19   9.09   8.75   5.07      0   9.55\n",
      "10  38.85  28.58  26.35  21.99    9.2  15.82  17.02   5.97   9.39      0, 'sum_dist':         1       2        3        4        5        6       7        8   \\\n",
      "1        0  577.38   549.79    291.2    401.9    683.8  204.11   401.05   \n",
      "2   647.71       0   354.24    311.8   269.43   518.11  185.02    282.0   \n",
      "3   496.49  367.24        0   807.85   447.18  1187.98  388.75   742.15   \n",
      "4   271.22  321.95   792.88        0   500.55  1349.92  613.49  1459.09   \n",
      "5   364.42  222.85   458.44   475.01        0  1144.36  482.98  1034.68   \n",
      "6   576.82  386.08  1092.81  1080.64  1173.83        0  952.23  1839.29   \n",
      "7   158.78  172.33   488.53   586.65   481.93  1109.26       0  1305.71   \n",
      "8   176.98   208.9   471.85   668.02   758.61  1556.18  602.12        0   \n",
      "9   130.28  125.05   261.26   320.28   538.34   836.73  374.66   777.45   \n",
      "10  113.55  200.73   380.63   641.92   668.79  1422.54  713.52  1175.71   \n",
      "\n",
      "         9        10  \n",
      "1    299.99   147.28  \n",
      "2    330.61   188.74  \n",
      "3    488.22   368.02  \n",
      "4    684.46   782.76  \n",
      "5    609.52   730.93  \n",
      "6   1108.35  1258.86  \n",
      "7    896.49   804.98  \n",
      "8    728.62   761.84  \n",
      "9         0   431.08  \n",
      "10   823.17        0  , 'sum_time':              1            2            3            4            5   \\\n",
      "1             0      2946.05  2167.766667  1319.833333  1286.366667   \n",
      "2   3658.516667            0       2040.4      1673.15  1208.933333   \n",
      "3   1845.983333  2051.216667            0       5156.0  2445.133333   \n",
      "4   1190.783333  1615.266667  5385.066667            0  3160.933333   \n",
      "5   1122.666667   885.116667      2479.55  2749.333333            0   \n",
      "6       2145.25  1831.416667  7282.616667       7414.8  9657.466667   \n",
      "7        600.85        736.4      3256.65  3922.316667  4320.216667   \n",
      "8         617.5   905.616667  2579.516667  4217.716667  5099.466667   \n",
      "9    519.216667       543.85  1497.283333      1849.95  3725.466667   \n",
      "10   374.316667   784.883333      1766.05  2949.666667      3608.05   \n",
      "\n",
      "              6            7             8            9            10  \n",
      "1    2575.133333   718.666667   1378.783333       1055.2   490.416667  \n",
      "2        2542.25   729.883333   1125.366667       1146.6        582.8  \n",
      "3         7760.8  2330.766667   4073.283333      2506.65      1572.85  \n",
      "4    9792.916667  3399.666667   7962.233333  3014.533333  2667.133333  \n",
      "5    9545.133333  4022.733333       7239.05       4353.1  3845.183333  \n",
      "6              0  7985.816667  14129.233333       8318.5  6756.366667  \n",
      "7        10360.3            0  10193.016667  5747.233333      3247.95  \n",
      "8   11948.783333  4759.416667             0  6965.883333  5409.333333  \n",
      "9        6585.15  2684.833333       7147.75            0  2537.483333  \n",
      "10   8197.933333       3018.5       8202.35  4876.116667            0  }\n"
     ]
    }
   ],
   "source": [
    "for key in data.keys():\n",
    "    print(data[key])"
   ],
   "metadata": {
    "collapsed": false,
    "ExecuteTime": {
     "end_time": "2023-07-14T21:17:16.428208Z",
     "start_time": "2023-07-14T21:17:16.421296Z"
    }
   }
  },
  {
   "cell_type": "code",
   "execution_count": 29,
   "outputs": [],
   "source": [
    "import pickle\n",
    "\n",
    "with open('data_dictionary_logistic.pkl', 'wb') as f:\n",
    "    pickle.dump(data, f)"
   ],
   "metadata": {
    "collapsed": false,
    "ExecuteTime": {
     "end_time": "2023-08-09T17:48:23.591880Z",
     "start_time": "2023-08-09T17:48:23.565946Z"
    }
   }
  }
 ],
 "metadata": {
  "kernelspec": {
   "display_name": "Python 3 (ipykernel)",
   "language": "python",
   "name": "python3"
  },
  "language_info": {
   "codemirror_mode": {
    "name": "ipython",
    "version": 3
   },
   "file_extension": ".py",
   "mimetype": "text/x-python",
   "name": "python",
   "nbconvert_exporter": "python",
   "pygments_lexer": "ipython3",
   "version": "3.11.0"
  }
 },
 "nbformat": 4,
 "nbformat_minor": 5
}
